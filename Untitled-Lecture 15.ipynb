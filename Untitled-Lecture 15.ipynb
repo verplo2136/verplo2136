{
 "cells": [
  {
   "cell_type": "code",
   "execution_count": null,
   "metadata": {},
   "outputs": [],
   "source": [
    "CREATE TABLE Users (\n",
    "    UserID SERIAL PRIMARY KEY,\n",
    "    UserType VARCHAR(10) NOT FULL,\n",
    "    FirstName VARCHAR(50),\n",
    "    LastName VARCHAR(50),\n",
    "    Email VARCHAR(100) UNIQUE NOT NULL,\n",
    "    Password VARCHAR(100) NOT NULL,\n",
    "    PhoneNumber VARCHAR(20),\n",
    "    Address VARCHAR(255)\n",
    ");\n",
    "\n",
    "CREATE TABLE Room (\n",
    "    RoomID SERIAL PRIMARY KEY,\n",
    "    HostID INT NOT NULL REFERENCES Users(UserID),\n",
    "    Capacity INT,\n",
    "    Price DECIMAL(10, 2),\n",
    "    HasAirConditioner BOOLEAN,\n",
    "    HasRefrigerator BOOLEAN,\n",
    "    Description TEXT\n",
    ");\n",
    "\n",
    "CREATE TABLE Bookongs (\n",
    "    BookigID SERIAL PRIMARY KEY,\n",
    "    GuestID INT NOT NULL REFERENCES Users(UserID),\n",
    "    RoomID INT NOT NULL REFERENCES Rooms(RoomID),\n",
    "    CheckInDate DATE NOT NULL,\n",
    "    CheckOutDate DATE NOT NULL,\n",
    "    TotalPrice DECIMAL(10, 2) NOT NULL\n",
    ");\n",
    "\n",
    "CREATE TABLE Reviews (\n",
    "    ReviewID SERIAL PRIMARY KEY,\n",
    "    GuestID INT NOT NULL REFERENCES Users(UserID),\n",
    "    RoomID INT NOT NULL REFERENCES Room(RoomID),\n",
    "    Rating INT NOT NULL,\n",
    "    Comment TEXT\n",
    ");"
   ]
  }
 ],
 "metadata": {
  "kernelspec": {
   "display_name": "Python 3",
   "language": "python",
   "name": "python3"
  },
  "language_info": {
   "codemirror_mode": {
    "name": "ipython",
    "version": 3
   },
   "file_extension": ".py",
   "mimetype": "text/x-python",
   "name": "python",
   "nbconvert_exporter": "python",
   "pygments_lexer": "ipython3",
   "version": "3.10.11"
  },
  "orig_nbformat": 4
 },
 "nbformat": 4,
 "nbformat_minor": 2
}
