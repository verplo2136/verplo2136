{
 "cells": [
  {
   "cell_type": "code",
   "execution_count": 2,
   "metadata": {},
   "outputs": [
    {
     "name": "stdout",
     "output_type": "stream",
     "text": [
      "User with role 'user' is not authorized to access this function.\n",
      "Showing customer receipt\n"
     ]
    }
   ],
   "source": [
    "# Zadanie 1 i 2\n",
    "def is_admin(func):\n",
    "        def wrapper(*args, **kwargs):\n",
    "            user_type = kwargs.get('user_type')\n",
    "            if user_type == 'admin':\n",
    "                return func(*args, **kwargs)\n",
    "            else:\n",
    "                raise PermissionError(f\"User with role '{user_type}' is not authorized to access this function.\")\n",
    "        return wrapper\n",
    "\n",
    "@is_admin \n",
    "def show_customer_receipt(user_type: str):\n",
    "    print(\"Showing customer receipt\")\n",
    "    \n",
    "try:\n",
    "    show_customer_receipt(user_type='user')\n",
    "except PermissionError as e:\n",
    "    print(e)\n",
    "\n",
    "show_customer_receipt(user_type='admin')"
   ]
  }
 ],
 "metadata": {
  "kernelspec": {
   "display_name": "Python 3",
   "language": "python",
   "name": "python3"
  },
  "language_info": {
   "codemirror_mode": {
    "name": "ipython",
    "version": 3
   },
   "file_extension": ".py",
   "mimetype": "text/x-python",
   "name": "python",
   "nbconvert_exporter": "python",
   "pygments_lexer": "ipython3",
   "version": "3.10.11"
  },
  "orig_nbformat": 4
 },
 "nbformat": 4,
 "nbformat_minor": 2
}
