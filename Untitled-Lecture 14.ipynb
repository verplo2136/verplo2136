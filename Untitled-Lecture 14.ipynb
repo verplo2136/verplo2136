{
 "cells": [
  {
   "cell_type": "code",
   "execution_count": 9,
   "metadata": {},
   "outputs": [
    {
     "name": "stdout",
     "output_type": "stream",
     "text": [
      "Book Name: And Then There Were None\n",
      "Autor: Agatha Christie\n",
      "Price: 1.3e+01\n",
      "Quantity: 50\n"
     ]
    }
   ],
   "source": [
    "# 1 Task\n",
    "class Product:\n",
    "    def __init__(self, name, price, quantity):\n",
    "        self.name = name\n",
    "        self.price = price\n",
    "        self.quantity = quantity\n",
    "\n",
    "class Book(Product):\n",
    "    def __init__(self, name, price, quantity, autor):\n",
    "        super().__init__(name, price, quantity)\n",
    "        self.autor = autor\n",
    "\n",
    "    def read(self):\n",
    "        print(f\"Book Name: {self.name}\")\n",
    "        print(f\"Autor: {self.autor}\")      \n",
    "        print(f\"Price: {self.price:.2}\")  \n",
    "        print(f\"Quantity: {self.quantity}\")    \n",
    "book = Book(\"And Then There Were None\", 12.99, 50, \"Agatha Christie\") \n",
    "\n",
    "book.read()"
   ]
  },
  {
   "cell_type": "code",
   "execution_count": 12,
   "metadata": {},
   "outputs": [
    {
     "name": "stdout",
     "output_type": "stream",
     "text": [
      "25\n",
      "Requested quantity not available\n",
      "Dish not available\n"
     ]
    }
   ],
   "source": [
    "# Task 2\n",
    "\n",
    "class Restaurant:\n",
    "    def __init__(self, name, cuisine, menu):\n",
    "        self.name = name\n",
    "        self.cuisine = cuisine\n",
    "        self.menu = menu\n",
    "\n",
    "class FastFood(Restaurant):\n",
    "    def __init__(self, name, cuisine, menu, drive_thru):\n",
    "        super().__init__(name, cuisine, menu)\n",
    "        self.drive_thru = drive_thru\n",
    "\n",
    "    def order(self, dish_name, quantity):\n",
    "        if dish_name in self.menu:\n",
    "            dish = self.menu[dish_name] \n",
    "            if quantity <= dish['quantity']:\n",
    "                total_cost = dish['price'] *quantity\n",
    "                dish['quantity'] -= quantity\n",
    "                return total_cost\n",
    "            else:\n",
    "                return \"Requested quantity not available\"\n",
    "        else:\n",
    "            return \"Dish not available\"\n",
    "        \n",
    "#  menu\n",
    "menu = {\n",
    "    'burger': {'price': 5, 'quantity': 10},\n",
    "    'pizza': {'price': 10, 'quantity': 20},\n",
    "    'drink': {'price': 1, 'quantity': 15}\n",
    "}        \n",
    "\n",
    "# FastFood instance\n",
    "mc = FastFood('McDonalds', 'Fast Food', menu, True)\n",
    "\n",
    "# Testing the order method\n",
    "print(mc.order('burger', 5))   \n",
    "print(mc.order('burger', 15))  \n",
    "print(mc.order('soup', 5))     "
   ]
  }
 ],
 "metadata": {
  "kernelspec": {
   "display_name": "Python 3",
   "language": "python",
   "name": "python3"
  },
  "language_info": {
   "codemirror_mode": {
    "name": "ipython",
    "version": 3
   },
   "file_extension": ".py",
   "mimetype": "text/x-python",
   "name": "python",
   "nbconvert_exporter": "python",
   "pygments_lexer": "ipython3",
   "version": "3.10.11"
  },
  "orig_nbformat": 4
 },
 "nbformat": 4,
 "nbformat_minor": 2
}
