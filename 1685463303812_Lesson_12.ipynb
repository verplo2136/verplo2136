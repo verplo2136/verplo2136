{
 "cells": [
  {
   "cell_type": "markdown",
   "metadata": {},
   "source": [
    "# File\n",
    "\n",
    "## What is a file?\n",
    "\n",
    "1. Header\n",
    "2. Data\n",
    "3. EOF\n",
    "\n"
   ]
  },
  {
   "attachments": {},
   "cell_type": "markdown",
   "metadata": {},
   "source": [
    "## Character Encoding\n",
    "\n",
    "1. ASCII\n",
    "2. UTF-8\n",
    "3. UTF-16\n",
    "4. UTF-32"
   ]
  },
  {
   "cell_type": "code",
   "execution_count": 1,
   "metadata": {},
   "outputs": [
    {
     "data": {
      "text/plain": [
       "b'Hello World'"
      ]
     },
     "execution_count": 1,
     "metadata": {},
     "output_type": "execute_result"
    }
   ],
   "source": [
    "# Encode to UTF-8\n",
    "\n",
    "'Hello World'.encode()"
   ]
  },
  {
   "cell_type": "code",
   "execution_count": 2,
   "metadata": {},
   "outputs": [
    {
     "data": {
      "text/plain": [
       "b'Hello World'"
      ]
     },
     "execution_count": 2,
     "metadata": {},
     "output_type": "execute_result"
    }
   ],
   "source": [
    "'Hello World'.encode('ascii')"
   ]
  },
  {
   "cell_type": "code",
   "execution_count": 3,
   "metadata": {},
   "outputs": [
    {
     "data": {
      "text/plain": [
       "b'\\xd0\\x9f\\xd1\\x80\\xd0\\xb8\\xd0\\xb2\\xd1\\x96\\xd1\\x82, \\xd1\\x81\\xd0\\xb2\\xd1\\x96\\xd1\\x82!'"
      ]
     },
     "execution_count": 3,
     "metadata": {},
     "output_type": "execute_result"
    }
   ],
   "source": [
    "# Encode to UTF-8\n",
    "\n",
    "'Привіт, світ!'.encode()"
   ]
  },
  {
   "cell_type": "code",
   "execution_count": 4,
   "metadata": {},
   "outputs": [
    {
     "ename": "UnicodeEncodeError",
     "evalue": "'ascii' codec can't encode characters in position 0-5: ordinal not in range(128)",
     "output_type": "error",
     "traceback": [
      "\u001b[0;31m---------------------------------------------------------------------------\u001b[0m",
      "\u001b[0;31mUnicodeEncodeError\u001b[0m                        Traceback (most recent call last)",
      "Cell \u001b[0;32mIn[4], line 1\u001b[0m\n\u001b[0;32m----> 1\u001b[0m \u001b[39m'\u001b[39;49m\u001b[39mПривіт, світ!\u001b[39;49m\u001b[39m'\u001b[39;49m\u001b[39m.\u001b[39;49mencode(\u001b[39m'\u001b[39;49m\u001b[39mascii\u001b[39;49m\u001b[39m'\u001b[39;49m)\n",
      "\u001b[0;31mUnicodeEncodeError\u001b[0m: 'ascii' codec can't encode characters in position 0-5: ordinal not in range(128)"
     ]
    }
   ],
   "source": [
    "'Привіт, світ!'.encode('ascii')"
   ]
  },
  {
   "cell_type": "code",
   "execution_count": 5,
   "metadata": {},
   "outputs": [
    {
     "data": {
      "text/plain": [
       "b'\\xf0\\x9f\\x98\\x80'"
      ]
     },
     "execution_count": 5,
     "metadata": {},
     "output_type": "execute_result"
    }
   ],
   "source": [
    "\"😀\".encode('utf-8')"
   ]
  },
  {
   "cell_type": "code",
   "execution_count": 6,
   "metadata": {},
   "outputs": [
    {
     "data": {
      "text/plain": [
       "b'El Ni\\xc3\\xb1o'"
      ]
     },
     "execution_count": 6,
     "metadata": {},
     "output_type": "execute_result"
    }
   ],
   "source": [
    "\"El Niño\".encode(\"utf-8\")"
   ]
  },
  {
   "cell_type": "markdown",
   "metadata": {},
   "source": [
    "### Why is it important to use one encoding? "
   ]
  },
  {
   "cell_type": "code",
   "execution_count": 7,
   "metadata": {},
   "outputs": [],
   "source": [
    "letters = \"αβγδ\"\n",
    "rawdata = letters.encode(\"utf-8\")\n"
   ]
  },
  {
   "cell_type": "code",
   "execution_count": 8,
   "metadata": {},
   "outputs": [
    {
     "data": {
      "text/plain": [
       "b'\\xce\\xb1\\xce\\xb2\\xce\\xb3\\xce\\xb4'"
      ]
     },
     "execution_count": 8,
     "metadata": {},
     "output_type": "execute_result"
    }
   ],
   "source": [
    "rawdata"
   ]
  },
  {
   "cell_type": "code",
   "execution_count": 9,
   "metadata": {},
   "outputs": [
    {
     "data": {
      "text/plain": [
       "'αβγδ'"
      ]
     },
     "execution_count": 9,
     "metadata": {},
     "output_type": "execute_result"
    }
   ],
   "source": [
    "rawdata.decode(\"utf-8\")"
   ]
  },
  {
   "cell_type": "code",
   "execution_count": 10,
   "metadata": {},
   "outputs": [
    {
     "data": {
      "text/plain": [
       "'뇎닎돎듎'"
      ]
     },
     "execution_count": 10,
     "metadata": {},
     "output_type": "execute_result"
    }
   ],
   "source": [
    "rawdata.decode(\"utf-16\")"
   ]
  },
  {
   "cell_type": "markdown",
   "metadata": {},
   "source": [
    "## Line ending\n",
    "\n",
    "1. LF (Line Feed) (\\n)\n",
    "2. CR (Carriage Return) (\\r)\n",
    "3. EOL (EOL) (\\r\\n)"
   ]
  },
  {
   "attachments": {},
   "cell_type": "markdown",
   "metadata": {},
   "source": [
    "## File Paths\n",
    "\n",
    "1. Nested Folders\n",
    "2. File name\n",
    "3. Extension\n",
    "\n",
    "**module/filename.txt**\n",
    "\n",
    "**/home/user/module/filename.txt**\n",
    "\n",
    "**C:\\Users\\user\\module\\filename.txt**"
   ]
  },
  {
   "cell_type": "markdown",
   "metadata": {},
   "source": [
    "## Open and Close files\n",
    "\n"
   ]
  },
  {
   "cell_type": "code",
   "execution_count": 11,
   "metadata": {},
   "outputs": [],
   "source": [
    "# open(file_path, mode)\n",
    "\n",
    "file = open('hello.txt')"
   ]
  },
  {
   "cell_type": "code",
   "execution_count": 12,
   "metadata": {},
   "outputs": [
    {
     "data": {
      "text/plain": [
       "<_io.TextIOWrapper name='hello.txt' mode='r' encoding='UTF-8'>"
      ]
     },
     "execution_count": 12,
     "metadata": {},
     "output_type": "execute_result"
    }
   ],
   "source": [
    "file"
   ]
  },
  {
   "cell_type": "markdown",
   "metadata": {},
   "source": [
    "## Open modes\n",
    "\n",
    "1. r - read\n",
    "2. w - write\n",
    "3. a - append\n",
    "4. rb - read binary\n",
    "5. wb - write binary\n",
    "6. ab - append binary\n",
    "7. r+ - read and write\n",
    "8. w+ - write and read\n",
    "9. a+ - append and read\n"
   ]
  },
  {
   "cell_type": "code",
   "execution_count": 13,
   "metadata": {},
   "outputs": [],
   "source": [
    "file = open(\"hello.txt\", mode=\"w\")"
   ]
  },
  {
   "cell_type": "code",
   "execution_count": null,
   "metadata": {},
   "outputs": [],
   "source": [
    "file"
   ]
  },
  {
   "cell_type": "code",
   "execution_count": 14,
   "metadata": {},
   "outputs": [
    {
     "data": {
      "text/plain": [
       "13"
      ]
     },
     "execution_count": 14,
     "metadata": {},
     "output_type": "execute_result"
    }
   ],
   "source": [
    "file.write(\"Hello, World!\")"
   ]
  },
  {
   "cell_type": "code",
   "execution_count": 17,
   "metadata": {},
   "outputs": [],
   "source": [
    "file.close()"
   ]
  },
  {
   "cell_type": "code",
   "execution_count": 16,
   "metadata": {},
   "outputs": [
    {
     "data": {
      "text/plain": [
       "<_io.TextIOWrapper name='hello.txt' mode='w' encoding='UTF-8'>"
      ]
     },
     "execution_count": 16,
     "metadata": {},
     "output_type": "execute_result"
    }
   ],
   "source": [
    "file"
   ]
  },
  {
   "cell_type": "code",
   "execution_count": 15,
   "metadata": {},
   "outputs": [
    {
     "data": {
      "text/plain": [
       "14"
      ]
     },
     "execution_count": 15,
     "metadata": {},
     "output_type": "execute_result"
    }
   ],
   "source": [
    "file.write(\"\\nHello, World!\")"
   ]
  },
  {
   "cell_type": "markdown",
   "metadata": {},
   "source": [
    "## Context manager"
   ]
  },
  {
   "cell_type": "code",
   "execution_count": null,
   "metadata": {},
   "outputs": [],
   "source": [
    "file = open(\"file.txt\", \"w\")\n",
    "\n",
    "try:\n",
    "    file.write(\"Hello, World!\")\n",
    "except Exception as e:\n",
    "    print(f\"Error: {e}\")\n",
    "finally:\n",
    "    file.close()\n"
   ]
  },
  {
   "cell_type": "code",
   "execution_count": 19,
   "metadata": {},
   "outputs": [],
   "source": [
    "# > enter a context .__enter__()\n",
    "with open('file.txt', 'w') as file:\n",
    "    file.write('OLA')\n",
    "\n",
    "# file.write('OLA2')\n",
    "# leave the context .__exit__()"
   ]
  },
  {
   "cell_type": "code",
   "execution_count": 20,
   "metadata": {},
   "outputs": [
    {
     "name": "stdout",
     "output_type": "stream",
     "text": [
      "0.3333333333333333333333333333\n",
      "0.3333\n",
      "0.3333333333333333333333333333\n"
     ]
    }
   ],
   "source": [
    "from decimal import Decimal, localcontext\n",
    "\n",
    "print(Decimal('1.00') / Decimal('3.00'))\n",
    "\n",
    "with localcontext() as ctx:\n",
    "    ctx.prec = 4\n",
    "    print(Decimal('1.00') / Decimal('3.00'))\n",
    "\n",
    "print(Decimal('1.00') / Decimal('3.00'))"
   ]
  },
  {
   "cell_type": "code",
   "execution_count": null,
   "metadata": {},
   "outputs": [],
   "source": [
    "from datetime import datetime\n",
    "\n",
    "datetime.now() # -> 08/10/22 12.19\n",
    "\n",
    "with freeze_time('08/10/21 12.19') as freeze:\n",
    "    datetime.now() # -> 08/10/21 12.19\n",
    "\n",
    "datetime.now() # -> 08/10/22 12.19"
   ]
  },
  {
   "cell_type": "code",
   "execution_count": null,
   "metadata": {},
   "outputs": [],
   "source": [
    "with open('input.txt', 'r') as input_file, open('output.txt', 'w') as output_file:\n",
    "    data = input_file.read()\n",
    "    print('|', data, '|', sep='')\n",
    "    output_file.write(data)"
   ]
  },
  {
   "cell_type": "markdown",
   "metadata": {},
   "source": [
    "## Reading from the file"
   ]
  },
  {
   "cell_type": "code",
   "execution_count": 21,
   "metadata": {},
   "outputs": [],
   "source": [
    "with open('new_file.txt', 'r') as file:\n",
    "    text = file.read()"
   ]
  },
  {
   "cell_type": "code",
   "execution_count": 22,
   "metadata": {},
   "outputs": [
    {
     "data": {
      "text/plain": [
       "'Turning and turning in the widening gyre\\nThe falcon cannot hear the falconer;\\nThings fall apart; the centre cannot hold;\\nMere anarchy is loosed upon the world,\\nThe blood-dimmed tide is loosed, and everywhere\\nThe ceremony of innocence is drowned;\\nThe best lack all conviction, while the worst\\nAre full of passionate intensity.\\n'"
      ]
     },
     "execution_count": 22,
     "metadata": {},
     "output_type": "execute_result"
    }
   ],
   "source": [
    "text"
   ]
  },
  {
   "cell_type": "code",
   "execution_count": 23,
   "metadata": {},
   "outputs": [
    {
     "name": "stdout",
     "output_type": "stream",
     "text": [
      "Turning and turning in the widening gyre\n",
      "The falcon cannot hear the falconer;\n",
      "Things fall apart; the centre cannot hold;\n",
      "Mere anarchy is loosed upon the world,\n",
      "The blood-dimmed tide is loosed, and everywhere\n",
      "The ceremony of innocence is drowned;\n",
      "The best lack all conviction, while the worst\n",
      "Are full of passionate intensity.\n",
      "\n"
     ]
    }
   ],
   "source": [
    "print(text)"
   ]
  },
  {
   "cell_type": "code",
   "execution_count": 24,
   "metadata": {},
   "outputs": [
    {
     "name": "stdout",
     "output_type": "stream",
     "text": [
      "Turning and turning in the widening gyre\n",
      "\n",
      "The falcon cannot hear the falconer;\n",
      "\n",
      "Things fall apart; the centre cannot hold;\n",
      "\n",
      "Mere anarchy is loosed upon the world,\n",
      "\n",
      "The blood-dimmed tide is loosed, and everywhere\n",
      "\n",
      "The ceremony of innocence is drowned;\n",
      "\n",
      "The best lack all conviction, while the worst\n",
      "\n",
      "Are full of passionate intensity.\n",
      "\n"
     ]
    }
   ],
   "source": [
    "with open('new_file.txt', 'r') as file:\n",
    "    for line in file:\n",
    "        print(line)"
   ]
  },
  {
   "cell_type": "code",
   "execution_count": 25,
   "metadata": {},
   "outputs": [
    {
     "name": "stdout",
     "output_type": "stream",
     "text": [
      "['Turning and turning in the widening gyre\\n', 'The falcon cannot hear the falconer;\\n', 'Things fall apart; the centre cannot hold;\\n', 'Mere anarchy is loosed upon the world,\\n', 'The blood-dimmed tide is loosed, and everywhere\\n', 'The ceremony of innocence is drowned;\\n', 'The best lack all conviction, while the worst\\n', 'Are full of passionate intensity.\\n']\n"
     ]
    }
   ],
   "source": [
    "with open('new_file.txt', 'r') as file:\n",
    "    print(file.readlines())"
   ]
  },
  {
   "cell_type": "markdown",
   "metadata": {},
   "source": [
    "## Writing to files "
   ]
  },
  {
   "cell_type": "code",
   "execution_count": 27,
   "metadata": {},
   "outputs": [],
   "source": [
    "with open('file.txt', 'w') as file:\n",
    "    file.write('”I have great faith in fools — self-confidence my friends call it.”\\n')"
   ]
  },
  {
   "cell_type": "code",
   "execution_count": 28,
   "metadata": {},
   "outputs": [],
   "source": [
    "with open('file.txt', 'w') as file:\n",
    "    file.write('End of the file')"
   ]
  },
  {
   "cell_type": "code",
   "execution_count": null,
   "metadata": {},
   "outputs": [],
   "source": [
    "with open('file.txt', 'a') as file:\n",
    "    file.write('\\n“Either define the moment or the moment will define you.”')"
   ]
  },
  {
   "cell_type": "code",
   "execution_count": null,
   "metadata": {},
   "outputs": [],
   "source": [
    "second_coming = [\n",
    "    'Turning and turning in the widening gyre\\n',\n",
    "    'The falcon cannot hear the falconer;\\n',\n",
    "    'Things fall apart; the centre cannot hold;\\n',\n",
    "    'Mere anarchy is loosed upon the world,\\n',\n",
    "    'The blood-dimmed tide is loosed, and everywhere\\n',  \n",
    "    'The ceremony of innocence is drowned;\\n',\n",
    "    'The best lack all conviction, while the worst\\n',\n",
    "    'Are full of passionate intensity.\\n',\n",
    "]\n",
    "\n",
    "with open('new_file.txt', mode=\"w\", encoding=\"utf-8\") as file:\n",
    "    file.writelines(second_coming)"
   ]
  },
  {
   "cell_type": "code",
   "execution_count": 30,
   "metadata": {},
   "outputs": [
    {
     "ename": "FileNotFoundError",
     "evalue": "[Errno 2] No such file or directory: 'folder/file.txt'",
     "output_type": "error",
     "traceback": [
      "\u001b[0;31m---------------------------------------------------------------------------\u001b[0m",
      "\u001b[0;31mFileNotFoundError\u001b[0m                         Traceback (most recent call last)",
      "Cell \u001b[0;32mIn[30], line 1\u001b[0m\n\u001b[0;32m----> 1\u001b[0m \u001b[39mwith\u001b[39;00m \u001b[39mopen\u001b[39;49m(\u001b[39m'\u001b[39;49m\u001b[39mfolder/file.txt\u001b[39;49m\u001b[39m'\u001b[39;49m, mode\u001b[39m=\u001b[39;49m\u001b[39m'\u001b[39;49m\u001b[39mw\u001b[39;49m\u001b[39m'\u001b[39;49m) \u001b[39mas\u001b[39;00m file:\n\u001b[1;32m      2\u001b[0m     file\u001b[39m.\u001b[39mwrite(\u001b[39m'\u001b[39m\u001b[39mHello\u001b[39m\u001b[39m'\u001b[39m)\n",
      "File \u001b[0;32m~/Library/Python/3.9/lib/python/site-packages/IPython/core/interactiveshell.py:284\u001b[0m, in \u001b[0;36m_modified_open\u001b[0;34m(file, *args, **kwargs)\u001b[0m\n\u001b[1;32m    277\u001b[0m \u001b[39mif\u001b[39;00m file \u001b[39min\u001b[39;00m {\u001b[39m0\u001b[39m, \u001b[39m1\u001b[39m, \u001b[39m2\u001b[39m}:\n\u001b[1;32m    278\u001b[0m     \u001b[39mraise\u001b[39;00m \u001b[39mValueError\u001b[39;00m(\n\u001b[1;32m    279\u001b[0m         \u001b[39mf\u001b[39m\u001b[39m\"\u001b[39m\u001b[39mIPython won\u001b[39m\u001b[39m'\u001b[39m\u001b[39mt let you open fd=\u001b[39m\u001b[39m{\u001b[39;00mfile\u001b[39m}\u001b[39;00m\u001b[39m by default \u001b[39m\u001b[39m\"\u001b[39m\n\u001b[1;32m    280\u001b[0m         \u001b[39m\"\u001b[39m\u001b[39mas it is likely to crash IPython. If you know what you are doing, \u001b[39m\u001b[39m\"\u001b[39m\n\u001b[1;32m    281\u001b[0m         \u001b[39m\"\u001b[39m\u001b[39myou can use builtins\u001b[39m\u001b[39m'\u001b[39m\u001b[39m open.\u001b[39m\u001b[39m\"\u001b[39m\n\u001b[1;32m    282\u001b[0m     )\n\u001b[0;32m--> 284\u001b[0m \u001b[39mreturn\u001b[39;00m io_open(file, \u001b[39m*\u001b[39;49margs, \u001b[39m*\u001b[39;49m\u001b[39m*\u001b[39;49mkwargs)\n",
      "\u001b[0;31mFileNotFoundError\u001b[0m: [Errno 2] No such file or directory: 'folder/file.txt'"
     ]
    }
   ],
   "source": [
    "with open('folder/file.txt', mode='w') as file:\n",
    "    file.write('Hello')"
   ]
  },
  {
   "cell_type": "markdown",
   "metadata": {},
   "source": [
    "## Working with CSV"
   ]
  },
  {
   "cell_type": "code",
   "execution_count": null,
   "metadata": {},
   "outputs": [],
   "source": [
    "import csv"
   ]
  },
  {
   "cell_type": "code",
   "execution_count": null,
   "metadata": {},
   "outputs": [],
   "source": [
    "countries = [\n",
    "    ['Kyiv', 42_000_000, 603_000, 'Ukraine'],\n",
    "    ['Warsaw', 38_000_000, 312_000, 'Poland'],\n",
    "    [520_000_000,'Washington', 5_500_000, 'USA'],\n",
    "    ['Paris', 67_000_000, 592_000, 'France'],\n",
    "]"
   ]
  },
  {
   "cell_type": "code",
   "execution_count": null,
   "metadata": {},
   "outputs": [],
   "source": [
    "with open('countries.csv', 'w') as file:\n",
    "    writer = csv.writer(file)\n",
    "    writer.writerow(['Capital', 'Population', 'Area', 'Country'])\n",
    "    for country in countries:\n",
    "        writer.writerow(country)"
   ]
  },
  {
   "cell_type": "markdown",
   "metadata": {},
   "source": [
    "### Reading"
   ]
  },
  {
   "cell_type": "code",
   "execution_count": null,
   "metadata": {},
   "outputs": [],
   "source": [
    "### How add column names?\n",
    "\n",
    "with open('countries.csv', mode='r') as file:\n",
    "    reader = csv.reader(file)\n",
    "    for row in reader:\n",
    "        print(row)"
   ]
  },
  {
   "cell_type": "markdown",
   "metadata": {},
   "source": [
    "### What about column names?"
   ]
  },
  {
   "cell_type": "code",
   "execution_count": null,
   "metadata": {},
   "outputs": [],
   "source": [
    "with open('countries.csv', mode='w') as file:\n",
    "    writer = csv.writer(file)\n",
    "    writer.writerow(['Capital', 'Population', 'Area', 'Name'])\n",
    "    writer.writerows(countries)"
   ]
  },
  {
   "cell_type": "code",
   "execution_count": null,
   "metadata": {},
   "outputs": [],
   "source": [
    "with open('countries_2.csv', mode='w') as file:\n",
    "    fieldnames = ['Capital', 'Population', 'Area', 'Name']\n",
    "    writer = csv.DictWriter(file, fieldnames=fieldnames)\n",
    "\n",
    "    writer.writeheader()\n",
    "    writer.writerow({'Capital': 'Kyiv', 'Population': 42_000_000, 'Area': 603_000, 'Name': 'Ukraine'})\n",
    "    writer.writerow({'Capital': 'Warsaw', 'Population': 38_000_000, 'Area': 312_000, 'Name': 'Poland'})\n",
    "    writer.writerow({'Capital': 'Washington', 'Population': 520_000_000, 'Area': 5_500_000, 'Name': 'USA'})\n",
    "    writer.writerow({'Capital': 'Paris', 'Population': 67_000_000, 'Area': 592_000, 'Name': 'France'})\n"
   ]
  },
  {
   "cell_type": "code",
   "execution_count": null,
   "metadata": {},
   "outputs": [],
   "source": [
    "countries = [\n",
    "    {'Capital': 'Kyiv', 'Population': 42_000_000, 'Area': 603_000, 'Name': 'Ukraine'},\n",
    "    {'Capital': 'Warsaw', 'Population': 38_000_000, 'Area': 312_000, 'Name': 'Poland'},\n",
    "    {'Capital': 'Washington', 'Population': 520_000_000, 'Area': 5_500_000, 'Name': 'USA'},\n",
    "    {'Capital': 'Paris', 'Population': 67_000_000, 'Name': 'France', },\n",
    "]\n",
    "header = ['Capital', 'Population', 'Area', 'Name' ]\n",
    "with open('countries.csv', mode='w') as file:\n",
    "    writer = csv.DictWriter(file, fieldnames=header)\n",
    "\n",
    "    writer.writeheader()\n",
    "    writer.writerows(countries)\n",
    "    "
   ]
  },
  {
   "cell_type": "code",
   "execution_count": null,
   "metadata": {},
   "outputs": [],
   "source": [
    "with open('countries.csv', mode='r') as file:\n",
    "    reader = csv.DictReader(file)\n",
    "    print(reader.fieldnames)\n",
    "    for row in reader:\n",
    "        print(row)"
   ]
  },
  {
   "attachments": {},
   "cell_type": "markdown",
   "metadata": {},
   "source": [
    "## Practice\n",
    "\n",
    "1. \n",
    "    1. Write a program that generate 26 text files named A.txt, B.txt, and so on up to Z.txt.\n",
    "    2. To each file append a random number between 1 and 100.\n",
    "    3. Create a summary file (summary.txt) that contains name of the file and number in that file:\n",
    "\n",
    "        A.txt: 67\n",
    "\n",
    "        B.txt: 12\n",
    "\n",
    "        ...\n",
    "        \n",
    "        Z.txt: 98\n",
    "\n",
    "2. \n",
    "    1. Create file with some content. As example you can take this one\n",
    "    ```\n",
    "        Lorem ipsum dolor sit amet, consectetur adipiscing elit, sed do eiusmod tempor incididunt ut labore et dolore magna aliqua. Ut enim ad minim veniam, quis nostrud exercitation ullamco laboris nisi ut aliquip ex ea commodo consequat. Duis aute irure dolor in reprehenderit in voluptate velit esse cillum dolore eu fugiat nulla pariatur. Excepteur sint occaecat cupidatat non proident, sunt in culpa qui officia deserunt mollit anim id est laborum.\n",
    "    ```\n",
    "    2. Create second file and copy content of the first file to the second file in upper case.\n",
    "\n",
    "3. Write a program that will simulate user score in a game. Create a list with 5 player's names. After that simulate 100 games for each player. As a result of the game create a list with player's name and his score (0-1000 range). And save it to a CSV file. File should looks like this:\n",
    "    ```\n",
    "    Player name, Score\n",
    "    Josh, 56\n",
    "    Luke, 784\n",
    "    Kate, 90\n",
    "    Mark, 125\n",
    "    Mary, 877\n",
    "    Josh, 345\n",
    "    ...\n",
    "    ```\n",
    "\n",
    "4. Write a script that reads the data from previous CSV file and creates a new file called high_scores.csv where each row contains the player name and their highest score. Final score should sorted by descending of highest score\n",
    "\n",
    "The output CSV file should look like this:\n",
    "\n",
    "    \n",
    "    Player name, Highest score\n",
    "    Kate, 907\n",
    "    Mary, 897\n",
    "    Luke, 784\n",
    "    Mark, 725\n",
    "    Josh, 345\n",
    "    "
   ]
  },
  {
   "attachments": {},
   "cell_type": "markdown",
   "metadata": {},
   "source": [
    "## Materials\n",
    "\n",
    "1. [Encodings](https://realpython.com/python-encodings-guide/)\n",
    "2. [Reading](https://realpython.com/read-write-files-python/)"
   ]
  }
 ],
 "metadata": {
  "kernelspec": {
   "display_name": "Python 3.9.13 64-bit",
   "language": "python",
   "name": "python3"
  },
  "language_info": {
   "codemirror_mode": {
    "name": "ipython",
    "version": 3
   },
   "file_extension": ".py",
   "mimetype": "text/x-python",
   "name": "python",
   "nbconvert_exporter": "python",
   "pygments_lexer": "ipython3",
   "version": "3.9.6"
  },
  "orig_nbformat": 4,
  "vscode": {
   "interpreter": {
    "hash": "397704579725e15f5c7cb49fe5f0341eb7531c82d19f2c29d197e8b64ab5776b"
   }
  }
 },
 "nbformat": 4,
 "nbformat_minor": 2
}
