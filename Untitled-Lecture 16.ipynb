{
 "cells": [
  {
   "cell_type": "code",
   "execution_count": 1,
   "metadata": {},
   "outputs": [
    {
     "ename": "SyntaxError",
     "evalue": "invalid syntax (219918542.py, line 1)",
     "output_type": "error",
     "traceback": [
      "\u001b[1;36m  Cell \u001b[1;32mIn[1], line 1\u001b[1;36m\u001b[0m\n\u001b[1;33m    CREATE TABLE Users (\u001b[0m\n\u001b[1;37m           ^\u001b[0m\n\u001b[1;31mSyntaxError\u001b[0m\u001b[1;31m:\u001b[0m invalid syntax\n"
     ]
    }
   ],
   "source": [
    "CREATE TABLE Users (\n",
    "    UserID SERIAL PRIMARY KEY,\n",
    "    UserType VARCHAR(10) NOT NULL,\n",
    "    FirstName VARCHAR(50),\n",
    "    LastName VARCHAR(50),\n",
    "    Email VARCHAR(100) UNIQUE NOT NULL,\n",
    "    Password VARCHAR(100) NOT NULL,\n",
    "    PhoneNumber VARCHAR(20),\n",
    "    Address VARCHAR(255)\n",
    ");\n",
    "\n",
    "CREATE TABLE Rooms (\n",
    "    RoomID SERIAL PRIMARY KEY,\n",
    "    HostID INT NOT NULL,\n",
    "    Capacity INT,\n",
    "    Price DECIMAL(10, 2),\n",
    "    HasAirConditioner BOOLEAN,\n",
    "    HasRefrigerator BOOLEAN,\n",
    "    Description TEXT\n",
    ");\n",
    "\n",
    "CREATE TABLE Reservations (\n",
    "    ReservationID SERIAL PRIMARY KEY,\n",
    "    GuestID INT NOT NULL,\n",
    "    RoomID INT NOT NULL,\n",
    "    CheckInDate DATE NOT NULL,\n",
    "    CheckOutDate DATE NOT NULL,\n",
    "    TotalPrice DECIMAL(10, 2) NOT NULL\n",
    ");\n",
    "\n",
    "CREATE TABLE Reviews (\n",
    "    ReviewID SERIAL PRIMARY KEY,\n",
    "    GuestID INT NOT NULL,\n",
    "    RoomID INT NOT NULL,\n",
    "    Rating INT NOT NULL,\n",
    "    Comment TEXT\n",
    ");"
   ]
  }
 ],
 "metadata": {
  "kernelspec": {
   "display_name": "Python 3",
   "language": "python",
   "name": "python3"
  },
  "language_info": {
   "codemirror_mode": {
    "name": "ipython",
    "version": 3
   },
   "file_extension": ".py",
   "mimetype": "text/x-python",
   "name": "python",
   "nbconvert_exporter": "python",
   "pygments_lexer": "ipython3",
   "version": "3.10.11"
  },
  "orig_nbformat": 4
 },
 "nbformat": 4,
 "nbformat_minor": 2
}
