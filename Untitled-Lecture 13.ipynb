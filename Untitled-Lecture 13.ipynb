{
 "cells": [
  {
   "cell_type": "code",
   "execution_count": 25,
   "metadata": {},
   "outputs": [
    {
     "name": "stdout",
     "output_type": "stream",
     "text": [
      "15000000\n",
      "Bosnia Herzegovina\n"
     ]
    }
   ],
   "source": [
    "# Task 1 __ 1. Create add method to add two countries together. This method should create another country object with the name of the two countries combined \n",
    "# and the population of the two countries added together.class Country:\n",
    "\n",
    "class Country:\n",
    "    def __init__(self, name, population):\n",
    "        self.name = name\n",
    "        self.population = population\n",
    "    \n",
    "    def add(self, other_country):\n",
    "        new_name = f\"{self.name} {other_country.name}\"\n",
    "        new_population = self.population + other_country.population\n",
    "        return Country(new_name, new_population)\n",
    "\n",
    "\n",
    "bosnia = Country('Bosnia', 10_000_000)\n",
    "herzegovina = Country('Herzegovina', 5_000_000)\n",
    "bosnia_herzegovina = bosnia.add(herzegovina)\n",
    "print(bosnia_herzegovina.population) \n",
    "print(bosnia_herzegovina.name) "
   ]
  }
 ],
 "metadata": {
  "kernelspec": {
   "display_name": "Python 3",
   "language": "python",
   "name": "python3"
  },
  "language_info": {
   "codemirror_mode": {
    "name": "ipython",
    "version": 3
   },
   "file_extension": ".py",
   "mimetype": "text/x-python",
   "name": "python",
   "nbconvert_exporter": "python",
   "pygments_lexer": "ipython3",
   "version": "3.10.11"
  },
  "orig_nbformat": 4
 },
 "nbformat": 4,
 "nbformat_minor": 2
}
